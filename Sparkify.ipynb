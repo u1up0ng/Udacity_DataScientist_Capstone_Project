{
 "cells": [
  {
   "cell_type": "markdown",
   "metadata": {},
   "source": [
    "u1up0ng 20201111"
   ]
  },
  {
   "cell_type": "markdown",
   "metadata": {},
   "source": [
    "# Sparkify Project Workspace - Mini Dataset\n",
    "This workspace contains a tiny subset **(128MB)** of the full dataset available (12GB). Feel free to use this workspace to build your project, or to explore a smaller subset with Spark before deploying your cluster on the cloud. Instructions for setting up your Spark cluster is included in the last lesson of the Extracurricular Spark Course content.\n",
    "\n",
    "You can follow the steps below to guide your data analysis and model building portion of this project."
   ]
  },
  {
   "cell_type": "code",
   "execution_count": 1,
   "metadata": {},
   "outputs": [],
   "source": [
    "# this was originally created inside udacity workspace\n",
    "# BUT was ported to local machine toward the end since Udacity's workspace keeps tming out.\n",
    "\n",
    "# to be deleted if not needed\n",
    "\n",
    "import findspark\n",
    "findspark.init()"
   ]
  },
  {
   "cell_type": "code",
   "execution_count": 2,
   "metadata": {},
   "outputs": [],
   "source": [
    "# import libraries\n",
    "\n",
    "from pyspark.sql import SparkSession\n",
    "\n",
    "# pyspark sql functions\n",
    "from pyspark.sql.functions import countDistinct, udf, to_date, count, col, isnan, when\n",
    "from pyspark.sql.functions import sum, mean, avg, approx_count_distinct\n",
    "from pyspark.sql.functions import min, max, lit, round, substring, create_map, substring_index\n",
    "\n",
    "#pyspark types\n",
    "from pyspark.sql.types import StructType, IntegerType, StringType, FloatType, StructField\n",
    "\n",
    "#pyspark window\n",
    "from pyspark.sql.window import Window\n",
    "\n",
    "#pyspark ml\n",
    "from pyspark.ml.feature import VectorAssembler, StandardScaler,StringIndexer\n",
    "from pyspark.ml import Pipeline\n",
    "from pyspark.ml.classification import LogisticRegression, RandomForestClassifier, GBTClassifier\n",
    "from pyspark.ml.evaluation import MulticlassClassificationEvaluator, BinaryClassificationEvaluator\n",
    "from pyspark.ml.tuning import ParamGridBuilder, CrossValidator\n",
    "\n",
    "# other python modules\n",
    "import pandas as pd\n",
    "import numpy as np\n",
    "from itertools import chain\n",
    "\n",
    "# sklearn metrics\n",
    "from sklearn.metrics import classification_report, confusion_matrix\n",
    "\n",
    "%matplotlib inline\n",
    "import matplotlib.pyplot as plt\n",
    "import seaborn as sns\n",
    "\n",
    "from datetime import datetime as dt\n",
    "\n",
    "import warnings\n",
    "warnings.filterwarnings('ignore')"
   ]
  },
  {
   "cell_type": "code",
   "execution_count": 3,
   "metadata": {},
   "outputs": [],
   "source": [
    "# create a Spark session\n",
    "spark = (SparkSession\n",
    "         .builder\n",
    "         .appName('Sparkify_u1up0ng')\n",
    "         .getOrCreate())"
   ]
  },
  {
   "cell_type": "code",
   "execution_count": 4,
   "metadata": {},
   "outputs": [
    {
     "data": {
      "text/html": [
       "\n",
       "            <div>\n",
       "                <p><b>SparkSession - in-memory</b></p>\n",
       "                \n",
       "        <div>\n",
       "            <p><b>SparkContext</b></p>\n",
       "\n",
       "            <p><a href=\"http://CACDTL04LV974M.ITServices.sbc.com:4040\">Spark UI</a></p>\n",
       "\n",
       "            <dl>\n",
       "              <dt>Version</dt>\n",
       "                <dd><code>v2.4.7</code></dd>\n",
       "              <dt>Master</dt>\n",
       "                <dd><code>local[*]</code></dd>\n",
       "              <dt>AppName</dt>\n",
       "                <dd><code>Sparkify_u1up0ng</code></dd>\n",
       "            </dl>\n",
       "        </div>\n",
       "        \n",
       "            </div>\n",
       "        "
      ],
      "text/plain": [
       "<pyspark.sql.session.SparkSession at 0x2143ccba1c8>"
      ]
     },
     "execution_count": 4,
     "metadata": {},
     "output_type": "execute_result"
    }
   ],
   "source": [
    "spark"
   ]
  },
  {
   "cell_type": "markdown",
   "metadata": {},
   "source": [
    "# Load and Clean Dataset\n",
    "In this workspace, the mini-dataset file is `mini_sparkify_event_data.json`. Load and clean the dataset, checking for invalid or missing data - for example, records without userids or sessionids. "
   ]
  },
  {
   "cell_type": "code",
   "execution_count": 5,
   "metadata": {},
   "outputs": [
    {
     "name": "stdout",
     "output_type": "stream",
     "text": [
      "+----------------+---------+---------+------+-------------+--------+---------+-----+--------------------+------+--------+-------------+---------+-----------------+------+-------------+--------------------+------+\n",
      "|          artist|     auth|firstName|gender|itemInSession|lastName|   length|level|            location|method|    page| registration|sessionId|             song|status|           ts|           userAgent|userId|\n",
      "+----------------+---------+---------+------+-------------+--------+---------+-----+--------------------+------+--------+-------------+---------+-----------------+------+-------------+--------------------+------+\n",
      "|  Martha Tilston|Logged In|    Colin|     M|           50| Freeman|277.89016| paid|     Bakersfield, CA|   PUT|NextSong|1538173362000|       29|        Rockpools|   200|1538352117000|Mozilla/5.0 (Wind...|    30|\n",
      "|Five Iron Frenzy|Logged In|    Micah|     M|           79|    Long|236.09424| free|Boston-Cambridge-...|   PUT|NextSong|1538331630000|        8|           Canada|   200|1538352180000|\"Mozilla/5.0 (Win...|     9|\n",
      "|    Adam Lambert|Logged In|    Colin|     M|           51| Freeman| 282.8273| paid|     Bakersfield, CA|   PUT|NextSong|1538173362000|       29|Time For Miracles|   200|1538352394000|Mozilla/5.0 (Wind...|    30|\n",
      "+----------------+---------+---------+------+-------------+--------+---------+-----+--------------------+------+--------+-------------+---------+-----------------+------+-------------+--------------------+------+\n",
      "only showing top 3 rows\n",
      "\n"
     ]
    }
   ],
   "source": [
    "# read json file\n",
    "df = spark.read.json('mini_sparkify_event_data.json')\n",
    "#df = spark.read.json('medium-sparkify-event-data.json')\n",
    "df.show(3)"
   ]
  },
  {
   "cell_type": "code",
   "execution_count": 6,
   "metadata": {},
   "outputs": [
    {
     "name": "stdout",
     "output_type": "stream",
     "text": [
      "root\n",
      " |-- artist: string (nullable = true)\n",
      " |-- auth: string (nullable = true)\n",
      " |-- firstName: string (nullable = true)\n",
      " |-- gender: string (nullable = true)\n",
      " |-- itemInSession: long (nullable = true)\n",
      " |-- lastName: string (nullable = true)\n",
      " |-- length: double (nullable = true)\n",
      " |-- level: string (nullable = true)\n",
      " |-- location: string (nullable = true)\n",
      " |-- method: string (nullable = true)\n",
      " |-- page: string (nullable = true)\n",
      " |-- registration: long (nullable = true)\n",
      " |-- sessionId: long (nullable = true)\n",
      " |-- song: string (nullable = true)\n",
      " |-- status: long (nullable = true)\n",
      " |-- ts: long (nullable = true)\n",
      " |-- userAgent: string (nullable = true)\n",
      " |-- userId: string (nullable = true)\n",
      "\n"
     ]
    }
   ],
   "source": [
    "# describe data\n",
    "df.printSchema()"
   ]
  },
  {
   "cell_type": "code",
   "execution_count": 7,
   "metadata": {},
   "outputs": [
    {
     "name": "stdout",
     "output_type": "stream",
     "text": [
      " Data have 286500 rows\n"
     ]
    }
   ],
   "source": [
    "# count of rows\n",
    "print(f' Data have {df.count()} rows')"
   ]
  },
  {
   "cell_type": "code",
   "execution_count": 8,
   "metadata": {},
   "outputs": [
    {
     "name": "stdout",
     "output_type": "stream",
     "text": [
      "+-----+----------+\n",
      "|level|      auth|\n",
      "+-----+----------+\n",
      "| free| Cancelled|\n",
      "| free|     Guest|\n",
      "| free| Logged In|\n",
      "| free|Logged Out|\n",
      "| paid| Cancelled|\n",
      "| paid| Logged In|\n",
      "| paid|Logged Out|\n",
      "+-----+----------+\n",
      "\n"
     ]
    }
   ],
   "source": [
    "# check level and auth columns; to focus on data of interest\n",
    "df.select(['level', 'auth']).dropDuplicates().orderBy(['level', 'auth']).show()"
   ]
  },
  {
   "cell_type": "markdown",
   "metadata": {},
   "source": [
    "# Exploratory Data Analysis\n",
    "When you're working with the full dataset, perform EDA by loading a small subset of the data and doing basic manipulations within Spark. In this workspace, you are already provided a small subset of data you can explore."
   ]
  },
  {
   "cell_type": "markdown",
   "metadata": {},
   "source": [
    "## Create Dataframe of interest (paying customers and in session)"
   ]
  },
  {
   "cell_type": "code",
   "execution_count": 9,
   "metadata": {
    "scrolled": true
   },
   "outputs": [
    {
     "name": "stdout",
     "output_type": "stream",
     "text": [
      "+--------------+---------+---------+------+-------------+--------+---------+-----+---------------+------+--------+-------------+---------+--------------------+------+-------------+--------------------+------+\n",
      "|        artist|     auth|firstName|gender|itemInSession|lastName|   length|level|       location|method|    page| registration|sessionId|                song|status|           ts|           userAgent|userId|\n",
      "+--------------+---------+---------+------+-------------+--------+---------+-----+---------------+------+--------+-------------+---------+--------------------+------+-------------+--------------------+------+\n",
      "|Martha Tilston|Logged In|    Colin|     M|           50| Freeman|277.89016| paid|Bakersfield, CA|   PUT|NextSong|1538173362000|       29|           Rockpools|   200|1538352117000|Mozilla/5.0 (Wind...|    30|\n",
      "|  Adam Lambert|Logged In|    Colin|     M|           51| Freeman| 282.8273| paid|Bakersfield, CA|   PUT|NextSong|1538173362000|       29|   Time For Miracles|   200|1538352394000|Mozilla/5.0 (Wind...|    30|\n",
      "|     Daft Punk|Logged In|    Colin|     M|           52| Freeman|223.60771| paid|Bakersfield, CA|   PUT|NextSong|1538173362000|       29|Harder Better Fas...|   200|1538352676000|Mozilla/5.0 (Wind...|    30|\n",
      "+--------------+---------+---------+------+-------------+--------+---------+-----+---------------+------+--------+-------------+---------+--------------------+------+-------------+--------------------+------+\n",
      "only showing top 3 rows\n",
      "\n"
     ]
    }
   ],
   "source": [
    "# create dataframe \n",
    "df_paying = df.where('level == \"paid\" and auth != \"Logged Out\"')\n",
    "df_paying.show(3)"
   ]
  },
  {
   "cell_type": "markdown",
   "metadata": {},
   "source": [
    "### Explore Data"
   ]
  },
  {
   "cell_type": "code",
   "execution_count": 10,
   "metadata": {},
   "outputs": [
    {
     "name": "stdout",
     "output_type": "stream",
     "text": [
      "Paying data have 222433 rows\n"
     ]
    }
   ],
   "source": [
    "# count of rows\n",
    "print(f'Paying data have {df_paying.count()} rows')"
   ]
  },
  {
   "cell_type": "code",
   "execution_count": 11,
   "metadata": {},
   "outputs": [
    {
     "name": "stdout",
     "output_type": "stream",
     "text": [
      "+------+----+---------+------+-------------+--------+------+-----+--------+------+----+------------+---------+----+------+---+---------+------+\n",
      "|artist|auth|firstName|gender|itemInSession|lastName|length|level|location|method|page|registration|sessionId|song|status| ts|userAgent|userId|\n",
      "+------+----+---------+------+-------------+--------+------+-----+--------+------+----+------------+---------+----+------+---+---------+------+\n",
      "+------+----+---------+------+-------------+--------+------+-----+--------+------+----+------------+---------+----+------+---+---------+------+\n",
      "\n"
     ]
    }
   ],
   "source": [
    "# verify there are no guest nor null userIds, as they are not data of interest\n",
    "\n",
    "df_paying.where('auth = \"Guest\" or userId = \"\"').show()"
   ]
  },
  {
   "cell_type": "code",
   "execution_count": 12,
   "metadata": {},
   "outputs": [],
   "source": [
    "# function to check for nulls\n",
    "\n",
    "# CODE WAS LARGELY TAKEN FROM REFERENCE # 2\n",
    "\n",
    "def null_check(df):\n",
    "    \n",
    "    print(f'Count of Nulls in {df} dataframe')\n",
    "    (df\n",
    "     .select([count(when(isnan(i)\n",
    "                         | col(i).contains('NA')\n",
    "                         | col(i).contains('NULL')\n",
    "                         |col(i).isNull(), i))\n",
    "              .alias(i) for i in df.columns])\n",
    "     .show())"
   ]
  },
  {
   "cell_type": "code",
   "execution_count": 13,
   "metadata": {},
   "outputs": [
    {
     "name": "stdout",
     "output_type": "stream",
     "text": [
      "Count of Nulls in DataFrame[artist: string, auth: string, firstName: string, gender: string, itemInSession: bigint, lastName: string, length: double, level: string, location: string, method: string, page: string, registration: bigint, sessionId: bigint, song: string, status: bigint, ts: bigint, userAgent: string, userId: string] dataframe\n",
      "+------+----+---------+------+-------------+--------+------+-----+--------+------+----+------------+---------+-----+------+---+---------+------+\n",
      "|artist|auth|firstName|gender|itemInSession|lastName|length|level|location|method|page|registration|sessionId| song|status| ts|userAgent|userId|\n",
      "+------+----+---------+------+-------------+--------+------+-----+--------+------+----+------------+---------+-----+------+---+---------+------+\n",
      "| 36407|   0|        0|     0|            0|       0| 36316|    0|       0|     0|   0|           0|        0|36358|     0|  0|        0|     0|\n",
      "+------+----+---------+------+-------------+--------+------+-----+--------+------+----+------------+---------+-----+------+---+---------+------+\n",
      "\n"
     ]
    }
   ],
   "source": [
    "null_check(df_paying)"
   ]
  },
  {
   "cell_type": "code",
   "execution_count": 14,
   "metadata": {},
   "outputs": [
    {
     "name": "stdout",
     "output_type": "stream",
     "text": [
      "Values found in \"auth\" column\n",
      "+---------+------+\n",
      "|     auth| count|\n",
      "+---------+------+\n",
      "|Logged In|222402|\n",
      "|Cancelled|    31|\n",
      "+---------+------+\n",
      "\n",
      "Values found in \"gender\" column\n",
      "+------+------+\n",
      "|gender| count|\n",
      "+------+------+\n",
      "|     F|124906|\n",
      "|     M| 97527|\n",
      "+------+------+\n",
      "\n",
      "Values found in \"level\" column\n",
      "+-----+------+\n",
      "|level| count|\n",
      "+-----+------+\n",
      "| paid|222433|\n",
      "+-----+------+\n",
      "\n",
      "Values found in \"method\" column\n",
      "+------+------+\n",
      "|method| count|\n",
      "+------+------+\n",
      "|   PUT|209753|\n",
      "|   GET| 12680|\n",
      "+------+------+\n",
      "\n",
      "Values found in \"page\" column\n",
      "+--------------------+------+\n",
      "|                page| count|\n",
      "+--------------------+------+\n",
      "|            NextSong|186117|\n",
      "|           Thumbs Up| 10342|\n",
      "|                Home|  7461|\n",
      "|     Add to Playlist|  5354|\n",
      "|          Add Friend|  3384|\n",
      "|              Logout|  2304|\n",
      "|           Downgrade|  2055|\n",
      "|         Thumbs Down|  1933|\n",
      "|            Settings|  1154|\n",
      "|                Help|  1132|\n",
      "|               About|   402|\n",
      "|         Roll Advert|   246|\n",
      "|       Save Settings|   225|\n",
      "|               Error|   199|\n",
      "|    Submit Downgrade|    63|\n",
      "|Cancellation Conf...|    31|\n",
      "|              Cancel|    31|\n",
      "+--------------------+------+\n",
      "\n",
      "Values found in \"status\" column\n",
      "+------+------+\n",
      "|status| count|\n",
      "+------+------+\n",
      "|   200|203952|\n",
      "|   307| 18282|\n",
      "|   404|   199|\n",
      "+------+------+\n",
      "\n",
      "Values found in \"['page', 'method']\" column\n",
      "+--------------------+------+------+\n",
      "|                page|method| count|\n",
      "+--------------------+------+------+\n",
      "|            NextSong|   PUT|186117|\n",
      "|           Thumbs Up|   PUT| 10342|\n",
      "|                Home|   GET|  7461|\n",
      "|     Add to Playlist|   PUT|  5354|\n",
      "|          Add Friend|   PUT|  3384|\n",
      "|              Logout|   PUT|  2304|\n",
      "|           Downgrade|   GET|  2055|\n",
      "|         Thumbs Down|   PUT|  1933|\n",
      "|            Settings|   GET|  1154|\n",
      "|                Help|   GET|  1132|\n",
      "|               About|   GET|   402|\n",
      "|         Roll Advert|   GET|   246|\n",
      "|       Save Settings|   PUT|   225|\n",
      "|               Error|   GET|   199|\n",
      "|    Submit Downgrade|   PUT|    63|\n",
      "|Cancellation Conf...|   GET|    31|\n",
      "|              Cancel|   PUT|    31|\n",
      "+--------------------+------+------+\n",
      "\n"
     ]
    }
   ],
   "source": [
    "# check some dimension values f the columns; also check for nulls\n",
    "\n",
    "cols_to_check = ['auth', 'gender', 'level', 'method', 'page', 'status', ['page', 'method']]\n",
    "\n",
    "for i in cols_to_check:\n",
    "    print(f'Values found in \"{i}\" column')\n",
    "    cols_count = df_paying.select(i).dropDuplicates().count()\n",
    "    df_paying.groupBy(i).count().orderBy('count', ascending=False).show(cols_count)"
   ]
  },
  {
   "cell_type": "code",
   "execution_count": 15,
   "metadata": {
    "scrolled": false
   },
   "outputs": [
    {
     "name": "stdout",
     "output_type": "stream",
     "text": [
      "Unique Counts for \"artist\" column\n",
      "+----------------------+\n",
      "|count(DISTINCT artist)|\n",
      "+----------------------+\n",
      "|                 16519|\n",
      "+----------------------+\n",
      "\n",
      "Unique Counts for \"firstName\" column\n",
      "+-------------------------+\n",
      "|count(DISTINCT firstName)|\n",
      "+-------------------------+\n",
      "|                      147|\n",
      "+-------------------------+\n",
      "\n",
      "Unique Counts for \"lastName\" column\n",
      "+------------------------+\n",
      "|count(DISTINCT lastName)|\n",
      "+------------------------+\n",
      "|                     140|\n",
      "+------------------------+\n",
      "\n",
      "Unique Counts for \"location\" column\n",
      "+------------------------+\n",
      "|count(DISTINCT location)|\n",
      "+------------------------+\n",
      "|                      95|\n",
      "+------------------------+\n",
      "\n",
      "Unique Counts for \"sessionId\" column\n",
      "+-------------------------+\n",
      "|count(DISTINCT sessionId)|\n",
      "+-------------------------+\n",
      "|                     1648|\n",
      "+-------------------------+\n",
      "\n",
      "Unique Counts for \"song\" column\n",
      "+--------------------+\n",
      "|count(DISTINCT song)|\n",
      "+--------------------+\n",
      "|               52576|\n",
      "+--------------------+\n",
      "\n",
      "Unique Counts for \"userAgent\" column\n",
      "+-------------------------+\n",
      "|count(DISTINCT userAgent)|\n",
      "+-------------------------+\n",
      "|                       50|\n",
      "+-------------------------+\n",
      "\n",
      "Unique Counts for \"userId\" column\n",
      "+----------------------+\n",
      "|count(DISTINCT userId)|\n",
      "+----------------------+\n",
      "|                   165|\n",
      "+----------------------+\n",
      "\n"
     ]
    }
   ],
   "source": [
    "# quantify discreet dimensions on some of the columns\n",
    "\n",
    "cols_to_check = ['artist', 'firstName', 'lastName', 'location', 'sessionId', 'song', 'userAgent', 'userId']\n",
    "\n",
    "for i in cols_to_check:\n",
    "    print(f'Unique Counts for \"{i}\" column')\n",
    "    df_paying.select(countDistinct(i)).show()"
   ]
  },
  {
   "cell_type": "code",
   "execution_count": 16,
   "metadata": {},
   "outputs": [
    {
     "name": "stdout",
     "output_type": "stream",
     "text": [
      "+------+---------+---------+------+-------------+--------+------+-----+--------------------+------+---------------+-------------+---------+----+------+-------------+--------------------+------+\n",
      "|artist|     auth|firstName|gender|itemInSession|lastName|length|level|            location|method|           page| registration|sessionId|song|status|           ts|           userAgent|userId|\n",
      "+------+---------+---------+------+-------------+--------+------+-----+--------------------+------+---------------+-------------+---------+----+------+-------------+--------------------+------+\n",
      "|  null|Logged In|    Colin|     M|           54| Freeman|  null| paid|     Bakersfield, CA|   PUT|Add to Playlist|1538173362000|       29|null|   200|1538352905000|Mozilla/5.0 (Wind...|    30|\n",
      "|  null|Logged In|    Alexi|     F|            4|  Warren|  null| paid|Spokane-Spokane V...|   GET|      Downgrade|1532482662000|       53|null|   200|1538354749000|Mozilla/5.0 (Wind...|    54|\n",
      "|  null|Logged In|    Alexi|     F|            7|  Warren|  null| paid|Spokane-Spokane V...|   PUT|      Thumbs Up|1532482662000|       53|null|   307|1538355255000|Mozilla/5.0 (Wind...|    54|\n",
      "+------+---------+---------+------+-------------+--------+------+-----+--------------------+------+---------------+-------------+---------+----+------+-------------+--------------------+------+\n",
      "only showing top 3 rows\n",
      "\n"
     ]
    }
   ],
   "source": [
    "# investigate rows with artist is null\n",
    "df_paying.where('isNull(artist)').show(3)"
   ]
  },
  {
   "cell_type": "markdown",
   "metadata": {},
   "source": [
    "### Define Churn\n",
    "\n",
    "Once you've done some preliminary analysis, create a column `Churn` to use as the label for your model. I suggest using the `Cancellation Confirmation` events to define your churn, which happen for both paid and free users. As a bonus task, you can also look into the `Downgrade` events."
   ]
  },
  {
   "cell_type": "code",
   "execution_count": 17,
   "metadata": {},
   "outputs": [
    {
     "name": "stdout",
     "output_type": "stream",
     "text": [
      "+--------------+---------+---------+------+-------------+--------+---------+-----+---------------+------+--------+-------------+---------+--------------------+------+-------------+--------------------+------+-----+\n",
      "|        artist|     auth|firstName|gender|itemInSession|lastName|   length|level|       location|method|    page| registration|sessionId|                song|status|           ts|           userAgent|userId|Churn|\n",
      "+--------------+---------+---------+------+-------------+--------+---------+-----+---------------+------+--------+-------------+---------+--------------------+------+-------------+--------------------+------+-----+\n",
      "|Martha Tilston|Logged In|    Colin|     M|           50| Freeman|277.89016| paid|Bakersfield, CA|   PUT|NextSong|1538173362000|       29|           Rockpools|   200|1538352117000|Mozilla/5.0 (Wind...|    30|    0|\n",
      "|  Adam Lambert|Logged In|    Colin|     M|           51| Freeman| 282.8273| paid|Bakersfield, CA|   PUT|NextSong|1538173362000|       29|   Time For Miracles|   200|1538352394000|Mozilla/5.0 (Wind...|    30|    0|\n",
      "|     Daft Punk|Logged In|    Colin|     M|           52| Freeman|223.60771| paid|Bakersfield, CA|   PUT|NextSong|1538173362000|       29|Harder Better Fas...|   200|1538352676000|Mozilla/5.0 (Wind...|    30|    0|\n",
      "+--------------+---------+---------+------+-------------+--------+---------+-----+---------------+------+--------+-------------+---------+--------------------+------+-------------+--------------------+------+-----+\n",
      "only showing top 3 rows\n",
      "\n"
     ]
    }
   ],
   "source": [
    "# Create Churn column\n",
    "\n",
    "# create labeler function\n",
    "churn_labeler = udf(lambda ischurn: int(ischurn == 'Cancelled'), IntegerType())\n",
    "\n",
    "# create label column\n",
    "df_paying = df_paying.withColumn('Churn', churn_labeler(col('auth')))\n",
    "df_paying.show(3)"
   ]
  },
  {
   "cell_type": "code",
   "execution_count": 18,
   "metadata": {},
   "outputs": [
    {
     "name": "stdout",
     "output_type": "stream",
     "text": [
      "+--------------+---------+---------+------+-------------+--------+---------+-----+---------------+------+--------+-------------+---------+--------------------+------+-------------+--------------------+------+-----+----------+----------------+\n",
      "|        artist|     auth|firstName|gender|itemInSession|lastName|   length|level|       location|method|    page| registration|sessionId|                song|status|           ts|           userAgent|userId|Churn|      date|registrationDate|\n",
      "+--------------+---------+---------+------+-------------+--------+---------+-----+---------------+------+--------+-------------+---------+--------------------+------+-------------+--------------------+------+-----+----------+----------------+\n",
      "|Martha Tilston|Logged In|    Colin|     M|           50| Freeman|277.89016| paid|Bakersfield, CA|   PUT|NextSong|1538173362000|       29|           Rockpools|   200|1538352117000|Mozilla/5.0 (Wind...|    30|    0|2018-01-30|      2018-01-28|\n",
      "|  Adam Lambert|Logged In|    Colin|     M|           51| Freeman| 282.8273| paid|Bakersfield, CA|   PUT|NextSong|1538173362000|       29|   Time For Miracles|   200|1538352394000|Mozilla/5.0 (Wind...|    30|    0|2018-01-30|      2018-01-28|\n",
      "|     Daft Punk|Logged In|    Colin|     M|           52| Freeman|223.60771| paid|Bakersfield, CA|   PUT|NextSong|1538173362000|       29|Harder Better Fas...|   200|1538352676000|Mozilla/5.0 (Wind...|    30|    0|2018-01-30|      2018-01-28|\n",
      "+--------------+---------+---------+------+-------------+--------+---------+-----+---------------+------+--------+-------------+---------+--------------------+------+-------------+--------------------+------+-----+----------+----------------+\n",
      "only showing top 3 rows\n",
      "\n"
     ]
    }
   ],
   "source": [
    "# create dates for possible use later\n",
    "\n",
    "# create function\n",
    "get_date = udf(lambda x: dt.fromtimestamp(x / 1000.0).strftime('%Y/%m/%d') )\n",
    "\n",
    "# create date column\n",
    "df_paying = df_paying.withColumn('date', to_date(get_date(df_paying.ts),'yyyy/mm/dd'))\n",
    "\n",
    "#create registrationDate\n",
    "df_paying = df_paying.withColumn('registrationDate', to_date(get_date(df_paying.registration),'yyyy/mm/dd'))\n",
    "\n",
    "df_paying.show(3)"
   ]
  },
  {
   "cell_type": "markdown",
   "metadata": {},
   "source": [
    "#### Explore Churn Data\n",
    "Once you've defined churn, perform some exploratory data analysis to observe the behavior for users who stayed vs users who churned. You can start by exploring aggregates on these two groups of users, observing how much of a specific action they experienced per a certain time unit or number of songs played."
   ]
  },
  {
   "cell_type": "code",
   "execution_count": 19,
   "metadata": {},
   "outputs": [],
   "source": [
    "# number of users\n",
    "number_of_users = df_paying.select(\"userId\").dropDuplicates().count()\n",
    "\n",
    "# list of churned userId\n",
    "churned_userId = df_paying.where('Churn == 1').select('userId').dropDuplicates().collect()\n",
    "churned_userId_list = [row.userId for row in churned_userId]"
   ]
  },
  {
   "cell_type": "code",
   "execution_count": 20,
   "metadata": {},
   "outputs": [],
   "source": [
    "# function to identify and separate churned and current userIds \n",
    "# preffered isin than join, due to familiarity\n",
    "\n",
    "def is_churn(churn_label):\n",
    "    \"\"\"\n",
    "    function to identify and separate churned and current userIds \n",
    "    \n",
    "    input: use churn values, churned users = 1\n",
    "    \"\"\"\n",
    "    \n",
    "    if churn_label == 1:\n",
    "        data = df_paying.where(col('userId').isin(churned_userId_list))\n",
    "    else:\n",
    "        data = df_paying.where(~col('userId').isin(churned_userId_list))\n",
    "        \n",
    "    return data"
   ]
  },
  {
   "cell_type": "code",
   "execution_count": 21,
   "metadata": {},
   "outputs": [],
   "source": [
    "# charting functions; code from REFERENCE # 6\n",
    "def labeler():\n",
    "    for p in ax.patches:\n",
    "        ax.annotate(np.round(p.get_height(),decimals=3)\n",
    "                    ,(p.get_x()+p.get_width()/2., p.get_height())\n",
    "                    ,ha='center'\n",
    "                    ,va='center'\n",
    "                    ,xytext=(0, 10)\n",
    "                    ,textcoords='offset points')"
   ]
  },
  {
   "cell_type": "code",
   "execution_count": 22,
   "metadata": {},
   "outputs": [
    {
     "name": "stdout",
     "output_type": "stream",
     "text": [
      "Number of unique users: 165 \n",
      "\n",
      "Number of Churned Users: 31\n",
      "Number of Current Users: 134\n"
     ]
    }
   ],
   "source": [
    "# User distribution\n",
    "number_of_users\n",
    "print(f'Number of unique users: {number_of_users} \\n')\n",
    "print(f'Number of Churned Users: {len(churned_userId_list)}')  \n",
    "print(f'Number of Current Users: {number_of_users - len(churned_userId_list)}')  "
   ]
  },
  {
   "cell_type": "markdown",
   "metadata": {},
   "source": [
    "<br>**Question:** Do churning customers hold shorter subscription duration?\n",
    "> Plot below shows that churning customers slightly held longer subscription period to some degree"
   ]
  },
  {
   "cell_type": "code",
   "execution_count": 23,
   "metadata": {},
   "outputs": [
    {
     "data": {
      "image/png": "[encoded data removed]",
      "text/plain": [
       "<Figure size 576x288 with 1 Axes>"
      ]
     },
     "metadata": {
      "needs_background": "light"
     },
     "output_type": "display_data"
    }
   ],
   "source": [
    "# create data for subscription duration\n",
    "data = (df_paying\n",
    "        .orderBy(['userId', 'Churn'])\n",
    "        .dropDuplicates(['userId', 'Churn'])\n",
    "        .select('userId', 'Churn', 'ts', 'registration')\n",
    "        .withColumn('period', col('ts')-col('registration'))\n",
    "        .groupby(['userId', 'Churn'])\n",
    "        .max('period')\n",
    "        .withColumnRenamed('max(period)','subscription_duration')\n",
    "        .toPandas())\n",
    "\n",
    "# boxplot of subscription period per Churn label\n",
    "plt.figure(figsize=(8, 4))\n",
    "ax = sns.swarmplot(data=data, x='Churn', y='subscription_duration', color='.1')\n",
    "ax = sns.boxplot(data=data, x='Churn', y='subscription_duration')\n",
    "ax.set_title('Subscription Duartions by Churn Label');"
   ]
  },
  {
   "cell_type": "markdown",
   "metadata": {},
   "source": [
    "**Percentage of action pages: ThumbsUp, ThumbsDown, FriendAdd, Add to Playlist, Downgrade, and Roll Advert**"
   ]
  },
  {
   "cell_type": "markdown",
   "metadata": {},
   "source": [
    "> Table comparisons below show noticeable percent differences in some of the action pages"
   ]
  },
  {
   "cell_type": "code",
   "execution_count": 24,
   "metadata": {},
   "outputs": [],
   "source": [
    "# function for percentage of action pages\n",
    "\n",
    "# list of page values\n",
    "action_pages = ['Thumbs Up', 'Thumbs Down', 'Add Friend'\n",
    "                , 'Add to Playlist', 'Downgrade'\n",
    "                , 'Submit Downgrade', 'Roll Advert', 'NextSong']\n",
    "\n",
    "def analyze_action_pages(churn_label):\n",
    "    \"\"\"\n",
    "    function to identify churned userIds \n",
    "    \n",
    "    input: use churn values, churned users = 1\n",
    "    \"\"\"\n",
    "    schema = StructType([StructField('avgPageCount', FloatType(), True)\n",
    "                         , StructField('churn', IntegerType(), False)\n",
    "                         , StructField('pageLabel', StringType(), False)])\n",
    "    data = spark.createDataFrame([], schema)\n",
    "                         \n",
    "    for n in churn_label:\n",
    "        for i in action_pages:             \n",
    "            page_value_count =(is_churn(n)\n",
    "                               .where(col('page') == i)\n",
    "                               .groupBy(['userId', 'page'])\n",
    "                               .count()\n",
    "                               .drop('page'))\n",
    "\n",
    "            data = data.union(is_churn(n)\n",
    "                              .groupBy('userId')\n",
    "                              .agg(count('userId'))\n",
    "                              .join(page_value_count, 'userId')\n",
    "                              .withColumn(i, col('count') / col('count(userId)') * 100)\n",
    "                              .drop('count(userId)', 'count', 'userId')\n",
    "                              .agg(avg(col(i)))\n",
    "                              .withColumn('churn', lit(n))\n",
    "                              .withColumn('pageLabel', lit(i)))\n",
    "            \n",
    "            \n",
    "    return data"
   ]
  },
  {
   "cell_type": "code",
   "execution_count": 25,
   "metadata": {},
   "outputs": [
    {
     "name": "stdout",
     "output_type": "stream",
     "text": [
      "+-------------------+-----+----------------+\n",
      "|       avgPageCount|churn|       pageLabel|\n",
      "+-------------------+-----+----------------+\n",
      "| 1.6276431223203605|    0|      Add Friend|\n",
      "|  1.719594841286557|    1|      Add Friend|\n",
      "|  2.339477074822491|    0| Add to Playlist|\n",
      "|  2.437144374370002|    1| Add to Playlist|\n",
      "| 1.0531698377199412|    0|       Downgrade|\n",
      "| 1.1763816154074196|    1|       Downgrade|\n",
      "|  83.52394398190717|    0|        NextSong|\n",
      "|  82.63495052069011|    1|        NextSong|\n",
      "| 0.2425376425338159|    0|     Roll Advert|\n",
      "| 0.3622647453109418|    1|     Roll Advert|\n",
      "|0.19873439665788917|    0|Submit Downgrade|\n",
      "|0.13562869951631445|    1|Submit Downgrade|\n",
      "|  0.930833886230649|    0|     Thumbs Down|\n",
      "| 1.0875836042636284|    1|     Thumbs Down|\n",
      "|  4.590629771595734|    0|       Thumbs Up|\n",
      "|  4.284126035308903|    1|       Thumbs Up|\n",
      "+-------------------+-----+----------------+\n",
      "\n"
     ]
    }
   ],
   "source": [
    "# analyze percentage of action pages on churned users\n",
    "df_action_pages = analyze_action_pages([1, 0])\n",
    "df_action_pages.orderBy('pageLabel', 'churn').show()"
   ]
  },
  {
   "cell_type": "code",
   "execution_count": 26,
   "metadata": {},
   "outputs": [
    {
     "data": {
      "image/png": "[encoded data removed]",
      "text/plain": [
       "<Figure size 1008x432 with 1 Axes>"
      ]
     },
     "metadata": {
      "needs_background": "light"
     },
     "output_type": "display_data"
    }
   ],
   "source": [
    "# create bar graph for Action page; exclude NextSong for better insight\n",
    "\n",
    "data  = df_action_pages.where('pageLabel != \"NextSong\"').toPandas()\n",
    "data['avgPageCount'] = data['avgPageCount'].round(decimals=1)\n",
    "\n",
    "# barplot of Action Pages\n",
    "plt.figure(figsize=(14, 6))\n",
    "ax = sns.barplot(x='pageLabel', y='avgPageCount', hue='churn', data=data)\n",
    "labeler()\n",
    "ax.set_title('Action Pages Avg Count Per Page');"
   ]
  },
  {
   "cell_type": "markdown",
   "metadata": {},
   "source": [
    "<br> **Question:** Do churners songs per user per day count behave differently than current users?\n",
    "> plot below shows more stable song per user on current subscribers compared churned subscriber"
   ]
  },
  {
   "cell_type": "code",
   "execution_count": 27,
   "metadata": {},
   "outputs": [],
   "source": [
    "# Songs per user comparison\n",
    "window = Window.partitionBy('date', 'userid').orderBy('date')\n",
    "\n",
    "data = pd.DataFrame() \n",
    "\n",
    "for i in [1, 0]:\n",
    "    if i==1:\n",
    "        #print('Churned Customers daily song count per user')\n",
    "        label = 'Churned'\n",
    "    else:\n",
    "        label = 'Current'\n",
    "        \n",
    "    data = data.append(is_churn(i)\n",
    "                       .withColumn('userCnt', approx_count_distinct('userId').over(window))\n",
    "                       .withColumn('songCnt', count('song').over(window))\n",
    "                       .select('userid', 'date', 'songCnt', 'userCnt')\n",
    "                       .groupBy('date')\n",
    "                       .agg(sum('songCnt')/sum('userCnt'))\n",
    "                       .withColumnRenamed('(sum(songCnt) / sum(userCnt))','aveSongperUser')\n",
    "                       .withColumn('churn', lit(i))\n",
    "                       .orderBy('date', 'churn')\n",
    "                       .toPandas())"
   ]
  },
  {
   "cell_type": "code",
   "execution_count": 28,
   "metadata": {},
   "outputs": [
    {
     "data": {
      "image/png": "[encoded data removed]",
      "text/plain": [
       "<Figure size 720x432 with 1 Axes>"
      ]
     },
     "metadata": {
      "needs_background": "light"
     },
     "output_type": "display_data"
    }
   ],
   "source": [
    "# barplot of Action Pages\n",
    "plt.figure(figsize=(10, 6))\n",
    "ax = sns.pointplot(x='date', y='aveSongperUser', hue='churn', data=data)\n",
    "ax.set_title('Average Songs per User')\n",
    "plt.xticks(rotation=90);"
   ]
  },
  {
   "cell_type": "markdown",
   "metadata": {},
   "source": [
    "<br> **Question:**  Do churning customer slowly reduce their number interaction before cancelling?\n",
    "> plot below shows churners have inconsistent interaction behaviour before cancelling"
   ]
  },
  {
   "cell_type": "code",
   "execution_count": 29,
   "metadata": {},
   "outputs": [
    {
     "data": {
      "image/png": "[encoded data removed]",
      "text/plain": [
       "<Figure size 1008x288 with 1 Axes>"
      ]
     },
     "metadata": {
      "needs_background": "light"
     },
     "output_type": "display_data"
    }
   ],
   "source": [
    "data = (df_paying.where(col('userId').isin(churned_userId_list))\n",
    "        .select('userId', 'date', 'page')\n",
    "        .groupBy('userId', 'date')\n",
    "        .agg(count('page'))\n",
    "        .withColumnRenamed('count(page)','interactions')\n",
    "        .orderBy('userId','date')\n",
    "        .toPandas())\n",
    "\n",
    "# stacked bar graph to visualize interaction of churners\n",
    "(data.groupby(['date', 'userId'])\n",
    " .mean()\n",
    " .unstack()['interactions']\n",
    " .plot(kind='bar', stacked=True, figsize=(14,4), title='Daily interactions by Churners')\n",
    " .get_legend()\n",
    " .remove())"
   ]
  },
  {
   "cell_type": "markdown",
   "metadata": {
    "scrolled": false
   },
   "source": [
    "``` python\n",
    "#same as above, but in line graph per user for better intuition (not shown on final report)\n",
    "for i in list(data.userId.unique()):\n",
    "    (data\n",
    "     .query('userId == @i')[['date', 'interactions']]\n",
    "     .set_index('date')\n",
    "     .plot(figsize=(14,0.5), title='Interactions for userId '+i)\n",
    "     .get_legend()\n",
    "     .remove())\n",
    "```"
   ]
  },
  {
   "cell_type": "markdown",
   "metadata": {},
   "source": [
    "<br> **Question:** Do churners play lesser songs per day before cancelling?\n",
    "> plot shows churners have inconsistent behaviour on playing songs before cancelling"
   ]
  },
  {
   "cell_type": "code",
   "execution_count": 30,
   "metadata": {},
   "outputs": [
    {
     "data": {
      "image/png": "[encoded data removed]",
      "text/plain": [
       "<Figure size 1008x288 with 1 Axes>"
      ]
     },
     "metadata": {
      "needs_background": "light"
     },
     "output_type": "display_data"
    }
   ],
   "source": [
    "data = (df_paying.where(col('userId').isin(churned_userId_list))\n",
    "        .select('userId', 'date', 'song')\n",
    "        .groupBy('userId', 'date')\n",
    "        .agg(count('song'))\n",
    "        .withColumnRenamed('count(song)','songs_per_day')\n",
    "        .orderBy('userId','date')\n",
    "        .toPandas())\n",
    "\n",
    "# stacked bar graph to visualize interaction of churners\n",
    "(data\n",
    " .groupby(['date', 'userId'])\n",
    " .mean()\n",
    " .unstack()['songs_per_day']\n",
    " .plot(kind='bar', stacked=True, figsize=(14,4), title='Daily songs played by Churners')\n",
    " .get_legend()\n",
    " .remove())"
   ]
  },
  {
   "cell_type": "markdown",
   "metadata": {},
   "source": [
    "# Feature Engineering\n",
    "Once you've familiarized yourself with the data, build out the features you find promising to train your model on. To work with the full dataset, you can follow the following steps.\n",
    "- Write a script to extract the necessary features from the smaller subset of data\n",
    "- Ensure that your script is scalable, using the best practices discussed in Lesson 3\n",
    "- Try your script on the full data set, debugging your script if necessary\n",
    "\n",
    "If you are working in the classroom workspace, you can just extract features based on the small subset of data contained here. Be sure to transfer over this work to the larger dataset when you work on your Spark cluster."
   ]
  },
  {
   "cell_type": "markdown",
   "metadata": {},
   "source": [
    "#### Create dataframe that will be used for modelling"
   ]
  },
  {
   "cell_type": "markdown",
   "metadata": {},
   "source": [
    "    1) select basic features from df_paying dataframes to be used for model dataframe"
   ]
  },
  {
   "cell_type": "code",
   "execution_count": 31,
   "metadata": {},
   "outputs": [],
   "source": [
    "# select basic features from df_paying dataframes to be used as model dataframe\n",
    "df_model = (df_paying\n",
    "            .groupBy('userId', 'date', substring(df_paying.location, -2, 2).alias('state'))\n",
    "            .agg(min('ts').alias('sessionDate')\n",
    "                 , min('registration').alias('registrationDate')\n",
    "                 , count('sessionId').alias('sessionCount')\n",
    "                 , count('song').alias('songsCount')\n",
    "                 , countDistinct('song').alias('uniqueSongCount')\n",
    "                 , countDistinct('artist').alias('uniqueArtistCount')\n",
    "                 , (max('ts')-min('registration')).alias('subscriptionDuration')\n",
    "                 , (max('ts') - min('ts')).alias('sessionDuration'))\n",
    "           )"
   ]
  },
  {
   "cell_type": "code",
   "execution_count": 32,
   "metadata": {},
   "outputs": [],
   "source": [
    "# create page action features\n",
    "\n",
    "for i in action_pages:\n",
    "    action_page_count = (df_paying.where(col('page') == i)\n",
    "                         .groupBy(['userId', 'date', 'page'])\n",
    "                         .count()\n",
    "                         .withColumnRenamed('count', (i + 'Count').replace(' ', ''))\n",
    "                         .drop('page'))\n",
    "    \n",
    "    df_model = df_model.join(action_page_count, ['userId', 'date'], 'left').na.fill(0)\n",
    "\n",
    "df_model = df_model.drop('date')"
   ]
  },
  {
   "cell_type": "code",
   "execution_count": 33,
   "metadata": {},
   "outputs": [],
   "source": [
    "# create label\n",
    "\n",
    "tag = df_paying.groupby('userId').agg(sum('Churn').alias('label'))\n",
    "df_model = df_model.join(tag, 'userId', 'left')"
   ]
  },
  {
   "cell_type": "code",
   "execution_count": 34,
   "metadata": {},
   "outputs": [
    {
     "name": "stdout",
     "output_type": "stream",
     "text": [
      "root\n",
      " |-- userId: string (nullable = true)\n",
      " |-- state: string (nullable = true)\n",
      " |-- sessionDate: long (nullable = true)\n",
      " |-- registrationDate: long (nullable = true)\n",
      " |-- sessionCount: long (nullable = false)\n",
      " |-- songsCount: long (nullable = false)\n",
      " |-- uniqueSongCount: long (nullable = false)\n",
      " |-- uniqueArtistCount: long (nullable = false)\n",
      " |-- subscriptionDuration: long (nullable = true)\n",
      " |-- sessionDuration: long (nullable = true)\n",
      " |-- ThumbsUpCount: long (nullable = true)\n",
      " |-- ThumbsDownCount: long (nullable = true)\n",
      " |-- AddFriendCount: long (nullable = true)\n",
      " |-- AddtoPlaylistCount: long (nullable = true)\n",
      " |-- DowngradeCount: long (nullable = true)\n",
      " |-- SubmitDowngradeCount: long (nullable = true)\n",
      " |-- RollAdvertCount: long (nullable = true)\n",
      " |-- NextSongCount: long (nullable = true)\n",
      " |-- label: long (nullable = true)\n",
      "\n"
     ]
    }
   ],
   "source": [
    "df_model.printSchema()"
   ]
  },
  {
   "cell_type": "markdown",
   "metadata": {},
   "source": [
    "# Modeling\n",
    "Split the full dataset into train, test, and validation sets. Test out several of the machine learning methods you learned. Evaluate the accuracy of the various models, tuning parameters as necessary. Determine your winning model based on test accuracy and report results on the validation set. Since the churned users are a fairly small subset, I suggest using F1 score as the metric to optimize."
   ]
  },
  {
   "cell_type": "markdown",
   "metadata": {},
   "source": [
    "> Create Data Transformation Pipeline"
   ]
  },
  {
   "cell_type": "code",
   "execution_count": 35,
   "metadata": {},
   "outputs": [],
   "source": [
    "# This function is mostly taken from REFERENCE #3\n",
    "\n",
    "def data_pipeline(data):\n",
    "    \"\"\"\n",
    "    Function to pipeline to transform data for model creation \n",
    "    \"\"\"\n",
    "    # define stage 1: transform the dimension feature to numeric\n",
    "    stage_1 = StringIndexer(inputCol='state', outputCol='stateIdx')\n",
    "\n",
    "    # define stage 2: create a vector of all the features required to train model\n",
    "    inputCols = data.columns[2:-1]+['stateIdx']\n",
    "    stage_2 = VectorAssembler(inputCols=inputCols,outputCol='features')\n",
    "\n",
    "    # define stage 3: scale data\n",
    "    stage_3 = StandardScaler(inputCol='features', outputCol='scaledFeatures')\n",
    "\n",
    "    # setup the pipeline\n",
    "    pipeline = Pipeline(stages=[stage_1, stage_2, stage_3])\n",
    "               \n",
    "    # fit the pipeline for the training data\n",
    "    model = pipeline.fit(data)\n",
    "               \n",
    "    # transform the data\n",
    "    data = model.transform(data)   \n",
    "\n",
    "    return data"
   ]
  },
  {
   "cell_type": "code",
   "execution_count": 36,
   "metadata": {},
   "outputs": [],
   "source": [
    "# finalize model dataframe\n",
    "df_model = data_pipeline(df_model)"
   ]
  },
  {
   "cell_type": "code",
   "execution_count": 37,
   "metadata": {},
   "outputs": [
    {
     "name": "stdout",
     "output_type": "stream",
     "text": [
      "root\n",
      " |-- userId: string (nullable = true)\n",
      " |-- state: string (nullable = true)\n",
      " |-- sessionDate: long (nullable = true)\n",
      " |-- registrationDate: long (nullable = true)\n",
      " |-- sessionCount: long (nullable = false)\n",
      " |-- songsCount: long (nullable = false)\n",
      " |-- uniqueSongCount: long (nullable = false)\n",
      " |-- uniqueArtistCount: long (nullable = false)\n",
      " |-- subscriptionDuration: long (nullable = true)\n",
      " |-- sessionDuration: long (nullable = true)\n",
      " |-- ThumbsUpCount: long (nullable = true)\n",
      " |-- ThumbsDownCount: long (nullable = true)\n",
      " |-- AddFriendCount: long (nullable = true)\n",
      " |-- AddtoPlaylistCount: long (nullable = true)\n",
      " |-- DowngradeCount: long (nullable = true)\n",
      " |-- SubmitDowngradeCount: long (nullable = true)\n",
      " |-- RollAdvertCount: long (nullable = true)\n",
      " |-- NextSongCount: long (nullable = true)\n",
      " |-- label: long (nullable = true)\n",
      " |-- stateIdx: double (nullable = false)\n",
      " |-- features: vector (nullable = true)\n",
      " |-- scaledFeatures: vector (nullable = true)\n",
      "\n"
     ]
    }
   ],
   "source": [
    "df_model.printSchema()"
   ]
  },
  {
   "cell_type": "code",
   "execution_count": 38,
   "metadata": {},
   "outputs": [
    {
     "data": {
      "text/plain": [
       "DataFrame[artist: string, auth: string, firstName: string, gender: string, itemInSession: bigint, lastName: string, length: double, level: string, location: string, method: string, page: string, registration: bigint, sessionId: bigint, song: string, status: bigint, ts: bigint, userAgent: string, userId: string, Churn: int, date: date, registrationDate: date]"
      ]
     },
     "execution_count": 38,
     "metadata": {},
     "output_type": "execute_result"
    }
   ],
   "source": [
    "# clear memory\n",
    "df.unpersist()\n",
    "df_paying.unpersist()"
   ]
  },
  {
   "cell_type": "markdown",
   "metadata": {},
   "source": [
    "> Split Train and Test Dataset"
   ]
  },
  {
   "cell_type": "code",
   "execution_count": 39,
   "metadata": {},
   "outputs": [],
   "source": [
    "# Create function to split data into train and test datasets\n",
    "\n",
    "def train_test_split(data = df_model.drop('features'), test_size=0.2):\n",
    "    \"\"\"\n",
    "    Split data into train and test datasets\n",
    "    \n",
    "    input: model datat and test size\n",
    "    \n",
    "    output: train and split data\n",
    "    \"\"\"\n",
    "    return data.randomSplit([1-test_size, test_size], seed=42)\n",
    "\n",
    "train, test = train_test_split()\n",
    "#print(f' Count of training data: {train.count()} rows')\n",
    "#print(f' Count of test data: {test.count()} rows')"
   ]
  },
  {
   "cell_type": "markdown",
   "metadata": {},
   "source": [
    "> Initiate Classifiers"
   ]
  },
  {
   "cell_type": "code",
   "execution_count": 40,
   "metadata": {},
   "outputs": [],
   "source": [
    "# baseline classifiers\n",
    "lr = LogisticRegression(featuresCol='scaledFeatures', labelCol='label')\n",
    "rf = RandomForestClassifier(featuresCol='scaledFeatures', labelCol='label')\n",
    "gb = GBTClassifier(featuresCol='scaledFeatures', labelCol='label')"
   ]
  },
  {
   "cell_type": "code",
   "execution_count": 41,
   "metadata": {},
   "outputs": [],
   "source": [
    "# Function to evaluate model\n",
    "def evaluate_model(model, train=train, test=test):\n",
    "    \"\"\"\n",
    "    Function to evaluate model\n",
    "    input: model, train, test\n",
    "    output: f1_score, auroc_score, y_true, y_pred, importance_score\n",
    "    \"\"\"\n",
    "    fitModel = model.fit(train)\n",
    "    fitModelResult = fitModel.transform(test)\n",
    "    \n",
    "    f1_score = (MulticlassClassificationEvaluator(metricName='f1')\n",
    "                .evaluate(fitModelResult.select(col('label'), col('prediction'))))\n",
    "    \n",
    "    auroc_score = (BinaryClassificationEvaluator(metricName='areaUnderROC')\n",
    "                 .evaluate(fitModelResult))\n",
    "    \n",
    "    y_true = np.array(fitModelResult.select(['label']).collect())\n",
    "    y_pred = np.array(fitModelResult.select(['prediction']).collect())\n",
    " \n",
    "    return f1_score, auroc_score, y_true, y_pred, fitModel"
   ]
  },
  {
   "cell_type": "code",
   "execution_count": 42,
   "metadata": {},
   "outputs": [],
   "source": [
    "# fundtion to display model metrics\n",
    "def print_metrics(model = [gb, rf, lr]):\n",
    "    \"\"\"\n",
    "    Function to display model metrics and Feature Imporance\n",
    "    input: models, importance_score (0: dont print; 1: print), data\n",
    "    output : metric printouts\n",
    "    \"\"\"\n",
    "\n",
    "    for clf in model:\n",
    "        if clf == lr:\n",
    "            tagclf = 'LogisticRegression Classifier'\n",
    "        elif clf == rf:\n",
    "            tagclf = 'RandomForest Classifier'\n",
    "        else:\n",
    "            tagclf = 'Gradient-Boosted Trees Calssifier'\n",
    "\n",
    "        f1_score, auroc_score, y_true, y_pred, fitModel = evaluate_model(clf)\n",
    "\n",
    "        #print results and score\n",
    "        print(f'\\n \\n{tagclf}: \\n f1_score = {f1_score} \\n AUROC score = {auroc_score} \\n')\n",
    "        print('Classification Report \\n', classification_report(y_true, y_pred))\n",
    "        print('Confusion Matrix \\n', confusion_matrix(y_true, y_pred))\n",
    "        \n",
    "    return fitModel"
   ]
  },
  {
   "cell_type": "code",
   "execution_count": 43,
   "metadata": {
    "scrolled": false
   },
   "outputs": [
    {
     "name": "stdout",
     "output_type": "stream",
     "text": [
      "Baseline Models:\n",
      "\n",
      " \n",
      "Gradient-Boosted Trees Calssifier: \n",
      " f1_score = 0.9592257356686651 \n",
      " AUROC score = 0.9776210539170781 \n",
      "\n",
      "Classification Report \n",
      "               precision    recall  f1-score   support\n",
      "\n",
      "           0       0.96      1.00      0.98       309\n",
      "           1       0.98      0.75      0.85        53\n",
      "\n",
      "    accuracy                           0.96       362\n",
      "   macro avg       0.97      0.88      0.91       362\n",
      "weighted avg       0.96      0.96      0.96       362\n",
      "\n",
      "Confusion Matrix \n",
      " [[308   1]\n",
      " [ 13  40]]\n",
      "\n",
      " \n",
      "RandomForest Classifier: \n",
      " f1_score = 0.8340574272528433 \n",
      " AUROC score = 0.8971728643829754 \n",
      "\n",
      "Classification Report \n",
      "               precision    recall  f1-score   support\n",
      "\n",
      "           0       0.87      1.00      0.93       309\n",
      "           1       1.00      0.15      0.26        53\n",
      "\n",
      "    accuracy                           0.88       362\n",
      "   macro avg       0.94      0.58      0.60       362\n",
      "weighted avg       0.89      0.88      0.83       362\n",
      "\n",
      "Confusion Matrix \n",
      " [[309   0]\n",
      " [ 45   8]]\n",
      "\n",
      " \n",
      "LogisticRegression Classifier: \n",
      " f1_score = 0.7861689076252973 \n",
      " AUROC score = 0.6388838004518533 \n",
      "\n",
      "Classification Report \n",
      "               precision    recall  f1-score   support\n",
      "\n",
      "           0       0.85      1.00      0.92       309\n",
      "           1       0.00      0.00      0.00        53\n",
      "\n",
      "    accuracy                           0.85       362\n",
      "   macro avg       0.43      0.50      0.46       362\n",
      "weighted avg       0.73      0.85      0.79       362\n",
      "\n",
      "Confusion Matrix \n",
      " [[309   0]\n",
      " [ 53   0]]\n"
     ]
    },
    {
     "data": {
      "text/plain": [
       "LogisticRegressionModel: uid = LogisticRegression_96c3067266c7, numClasses = 2, numFeatures = 17"
      ]
     },
     "execution_count": 43,
     "metadata": {},
     "output_type": "execute_result"
    }
   ],
   "source": [
    "# Show Metrics of Baseline Models\n",
    "print('Baseline Models:')\n",
    "print_metrics()"
   ]
  },
  {
   "cell_type": "markdown",
   "metadata": {},
   "source": [
    "**Best Result: Gradient-Boosted Trees**\n",
    "> Will tune the model with the ParamGridBuilder and the CrossValidator; below is the hyperparametr strategy"
   ]
  },
  {
   "cell_type": "code",
   "execution_count": 44,
   "metadata": {
    "scrolled": false
   },
   "outputs": [
    {
     "name": "stdout",
     "output_type": "stream",
     "text": [
      "cacheNodeIds: If false, the algorithm will pass trees to executors to match instances with nodes. If true, the algorithm will cache node IDs for each instance. Caching can speed up training of deeper trees. Users can set how often should the cache be checkpointed or disable it by setting checkpointInterval. (default: False)\n",
      "checkpointInterval: set checkpoint interval (>= 1) or disable checkpoint (-1). E.g. 10 means that the cache will get checkpointed every 10 iterations. Note: this setting will be ignored if the checkpoint directory is not set in the SparkContext. (default: 10)\n",
      "featureSubsetStrategy: The number of features to consider for splits at each tree node. Supported options: 'auto' (choose automatically for task: If numTrees == 1, set to 'all'. If numTrees > 1 (forest), set to 'sqrt' for classification and to 'onethird' for regression), 'all' (use all features), 'onethird' (use 1/3 of the features), 'sqrt' (use sqrt(number of features)), 'log2' (use log2(number of features)), 'n' (when n is in the range (0, 1.0], use n * number of features. When n is in the range (1, number of features), use n features). default = 'auto' (default: all)\n",
      "featuresCol: features column name. (default: features, current: scaledFeatures)\n",
      "labelCol: label column name. (default: label, current: label)\n",
      "lossType: Loss function which GBT tries to minimize (case-insensitive). Supported options: logistic (default: logistic)\n",
      "maxBins: Max number of bins for discretizing continuous features.  Must be >=2 and >= number of categories for any categorical feature. (default: 32)\n",
      "maxDepth: Maximum depth of the tree. (>= 0) E.g., depth 0 means 1 leaf node; depth 1 means 1 internal node + 2 leaf nodes. (default: 5)\n",
      "maxIter: max number of iterations (>= 0). (default: 20)\n",
      "maxMemoryInMB: Maximum memory in MB allocated to histogram aggregation. If too small, then 1 node will be split per iteration, and its aggregates may exceed this size. (default: 256)\n",
      "minInfoGain: Minimum information gain for a split to be considered at a tree node. (default: 0.0)\n",
      "minInstancesPerNode: Minimum number of instances each child must have after split. If a split causes the left or right child to have fewer than minInstancesPerNode, the split will be discarded as invalid. Should be >= 1. (default: 1)\n",
      "predictionCol: prediction column name. (default: prediction)\n",
      "seed: random seed. (default: -6122744878136501457)\n",
      "stepSize: Step size (a.k.a. learning rate) in interval (0, 1] for shrinking the contribution of each estimator. (default: 0.1)\n",
      "subsamplingRate: Fraction of the training data used for learning each decision tree, in range (0, 1]. (default: 1.0)\n"
     ]
    }
   ],
   "source": [
    "# print list of parameters\n",
    "print(gb.explainParams())"
   ]
  },
  {
   "cell_type": "markdown",
   "metadata": {},
   "source": [
    "```python\n",
    "# COMMENTED OUT since it would take time to run ..\n",
    "\n",
    "# Create cross validation to improve Gradient-Boosted Trees Calssifier model\n",
    "evaluator = BinaryClassificationEvaluator(metricName='areaUnderROC')\n",
    "\n",
    "paramGrid = (ParamGridBuilder()\n",
    "             .addGrid(gb.stepSize, [0.05, 0.1, 0.15])\n",
    "             .addGrid(gb.maxDepth, [4,5,6])\n",
    "             .addGrid(gb.maxBins, [20, 32, 60])\n",
    "             .addGrid(gb.maxIter, [20, 50, 100])\n",
    "             .build())\n",
    "\n",
    "cv = CrossValidator(estimator=gb, estimatorParamMaps=paramGrid, evaluator=evaluator, numFolds=5)\n",
    "\n",
    "# Run cross validations\n",
    "print_metrics([cv])\n",
    "```"
   ]
  },
  {
   "cell_type": "markdown",
   "metadata": {},
   "source": [
    "**Refinement**\n",
    "> Further Optimization of Model is possible. However due to lack of time; and machines that keeps crashing (Udacity and user machine; I settled on the model below. "
   ]
  },
  {
   "cell_type": "code",
   "execution_count": 45,
   "metadata": {},
   "outputs": [
    {
     "name": "stdout",
     "output_type": "stream",
     "text": [
      "Optimized Model:\n",
      "\n",
      " \n",
      "Gradient-Boosted Trees Calssifier: \n",
      " f1_score = 0.9832927765515539 \n",
      " AUROC score = 0.9822922391158319 \n",
      "\n",
      "Classification Report \n",
      "               precision    recall  f1-score   support\n",
      "\n",
      "           0       0.99      0.99      0.99       309\n",
      "           1       0.96      0.92      0.94        53\n",
      "\n",
      "    accuracy                           0.98       362\n",
      "   macro avg       0.97      0.96      0.97       362\n",
      "weighted avg       0.98      0.98      0.98       362\n",
      "\n",
      "Confusion Matrix \n",
      " [[307   2]\n",
      " [  4  49]]\n"
     ]
    }
   ],
   "source": [
    "gb_opt = GBTClassifier(featuresCol='scaledFeatures'\n",
    "                       , labelCol='label'\n",
    "                       , maxIter = 100\n",
    "                       , stepSize=.05\n",
    "                       , maxDepth = 6\n",
    "                       , maxBins = 60\n",
    "                      )\n",
    "\n",
    "print('Optimized Model:')\n",
    "model_opt = print_metrics([gb_opt])"
   ]
  },
  {
   "cell_type": "markdown",
   "metadata": {},
   "source": [
    "**Check Feature Importance**"
   ]
  },
  {
   "cell_type": "code",
   "execution_count": 46,
   "metadata": {},
   "outputs": [
    {
     "name": "stdout",
     "output_type": "stream",
     "text": [
      "\n",
      "                       Feature_Importance\n",
      "sessionDate                        0.095\n",
      "registrationDate                   0.373\n",
      "sessionCount                       0.010\n",
      "songsCount                         0.009\n",
      "uniqueSongCount                    0.006\n",
      "uniqueArtistCount                  0.004\n",
      "subscriptionDuration               0.068\n",
      "sessionDuration                    0.018\n",
      "ThumbsUpCount                      0.029\n",
      "ThumbsDownCount                    0.004\n",
      "AddFriendCount                     0.022\n",
      "AddtoPlaylistCount                 0.008\n",
      "DowngradeCount                     0.006\n",
      "SubmitDowngradeCount               0.008\n",
      "RollAdvertCount                    0.010\n",
      "NextSongCount                      0.000\n",
      "state                              0.329\n"
     ]
    },
    {
     "data": {
      "image/png": "[encoded data removed]",
      "text/plain": [
       "<Figure size 864x432 with 1 Axes>"
      ]
     },
     "metadata": {
      "needs_background": "light"
     },
     "output_type": "display_data"
    }
   ],
   "source": [
    "inputCols = df_model.columns[2:-4]+['state']\n",
    "importance_data = pd.DataFrame(index= inputCols\n",
    "             , columns = ['Feature_Importance']\n",
    "             , data = model_opt.featureImportances.toArray().round(decimals=3).T,)\n",
    "\n",
    "print('\\n', importance_data)\n",
    "\n",
    "\n",
    "# barplot of Feature Importance\n",
    "plt.figure(figsize=(12, 6))\n",
    "ax = sns.barplot(y='Feature_Importance'\n",
    "                 , data=importance_data.reset_index()\n",
    "                 , x = 'index')\n",
    "labeler()\n",
    "ax.set_xticklabels(ax.get_xticklabels(), rotation=90)\n",
    "ax.set_title('Feature Importance');"
   ]
  },
  {
   "cell_type": "markdown",
   "metadata": {},
   "source": [
    "# Final Steps\n",
    "Clean up your code, adding comments and renaming variables to make the code easier to read and maintain. Refer to the Spark Project Overview page and Data Scientist Capstone Project Rubric to make sure you are including all components of the capstone project and meet all expectations. Remember, this includes thorough documentation in a README file in a Github repository, as well as a web app or blog post."
   ]
  },
  {
   "cell_type": "markdown",
   "metadata": {},
   "source": [
    "# References\n",
    "1.  [How to count the null,na and nan values in each column of pyspark dataframe](https://stackoverflow.com/questions/56095451/how-to-count-the-null-na-and-nan-values-in-each-column-of-pyspark-dataframe)\n",
    "1. [Balancing Model Weights in PySPark](https://danvatterott.com/blog/2019/11/18/balancing-model-weights-in-pyspark/)\n",
    "1. [Want to Build Machine Learning Pipelines? A Quick Introduction using PySpark](https://www.analyticsvidhya.com/blog/2019/11/build-machine-learning-pipelines-pyspark/)\n",
    "1. [In Depth: Parameter tuning for Gradient Boosting](https://medium.com/all-things-ai/in-depth-parameter-tuning-for-gradient-boosting-3363992e9bae)\n",
    "1. [GBTClassifier\n",
    "](http://maxpumperla.com/java-book/api/scala/org/apache/spark/ml/classification/GBTClassifier.html)\n",
    "1. [Annotate bars with values on Pandas bar plots](https://stackoverflow.com/questions/25447700/annotate-bars-with-values-on-pandas-bar-plots)"
   ]
  },
  {
   "cell_type": "markdown",
   "metadata": {},
   "source": [
    "### Appendix\n",
    "> Saving the code below for use in future optimization; where weights might be needed in Logistic Regression"
   ]
  },
  {
   "cell_type": "markdown",
   "metadata": {
    "scrolled": true
   },
   "source": [
    "Create \"weights\" to handle unbalanced data\n",
    "(this was not used; since models performed well ...)\n",
    "\n",
    "```python\n",
    "# create \"weights\" to manage unbalanced data\n",
    "# CODE WAS LARGELY TAKEN FROM REFERENCE # 2\n",
    "\n",
    "y_collect = df_model.select(\"label\").groupBy(\"label\").count().collect()\n",
    "unique_y = [x[\"label\"] for x in y_collect]\n",
    "total_y = df_model.count()\n",
    "unique_y_count = len(y_collect)\n",
    "bin_count = [x[\"count\"] for x in y_collect]\n",
    "\n",
    "class_weights_spark = {i: ii for i, ii in zip(unique_y, total_y / (unique_y_count * np.array(bin_count)))}\n",
    "print(class_weights_spark)\n",
    "\n",
    "\n",
    "# assign weight to each instance\n",
    "mapping_expr = create_map([lit(x) for x in chain(*class_weights_spark.items())])\n",
    "\n",
    "df_model = df_model.withColumn('weight', mapping_expr.getItem(col('label')))\n",
    "\n",
    "```\n"
   ]
  },
  {
   "cell_type": "markdown",
   "metadata": {},
   "source": [
    "ulup0ng 20201126"
   ]
  }
 ],
 "metadata": {
  "kernelspec": {
   "display_name": "Python 3",
   "language": "python",
   "name": "python3"
  },
  "language_info": {
   "codemirror_mode": {
    "name": "ipython",
    "version": 3
   },
   "file_extension": ".py",
   "mimetype": "text/x-python",
   "name": "python",
   "nbconvert_exporter": "python",
   "pygments_lexer": "ipython3",
   "version": "3.7.7"
  }
 },
 "nbformat": 4,
 "nbformat_minor": 2
}
